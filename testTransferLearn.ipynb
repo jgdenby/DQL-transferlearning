{
  "nbformat": 4,
  "nbformat_minor": 0,
  "metadata": {
    "colab": {
      "name": "testTransferLearn.ipynb",
      "version": "0.3.2",
      "provenance": [],
      "collapsed_sections": []
    },
    "kernelspec": {
      "name": "python3",
      "display_name": "Python 3"
    },
    "accelerator": "GPU"
  },
  "cells": [
    {
      "cell_type": "markdown",
      "metadata": {
        "id": "pVr9M5ZCqYR1",
        "colab_type": "text"
      },
      "source": [
        "Installing dependencies"
      ]
    },
    {
      "cell_type": "code",
      "metadata": {
        "id": "i8j_tgkiqSx0",
        "colab_type": "code",
        "outputId": "870a2aab-96e3-4025-f554-6862d8c22aac",
        "colab": {
          "base_uri": "https://localhost:8080/",
          "height": 374
        }
      },
      "source": [
        "#remove \" > /dev/null 2>&1\" to see what is going on under the hood\n",
        "!pip install gym pyvirtualdisplay > /dev/null 2>&1\n",
        "!apt-get install -y xvfb python-opengl ffmpeg > /dev/null 2>&1\n",
        "!apt-get install -y python-numpy python-dev cmake zlib1g-dev libjpeg-dev xvfb ffmpeg xorg-dev python-opengl libboost-all-dev libsdl2-dev swig\n",
        "!pip install pyglet"
      ],
      "execution_count": 0,
      "outputs": [
        {
          "output_type": "stream",
          "text": [
            "Reading package lists... Done\n",
            "Building dependency tree       \n",
            "Reading state information... Done\n",
            "cmake is already the newest version (3.10.2-1ubuntu2).\n",
            "libjpeg-dev is already the newest version (8c-2ubuntu8).\n",
            "python-dev is already the newest version (2.7.15~rc1-1).\n",
            "python-numpy is already the newest version (1:1.13.3-2ubuntu1).\n",
            "zlib1g-dev is already the newest version (1:1.2.11.dfsg-0ubuntu2).\n",
            "libboost-all-dev is already the newest version (1.65.1.0ubuntu1).\n",
            "python-opengl is already the newest version (3.1.0+dfsg-1).\n",
            "swig is already the newest version (3.0.12-1).\n",
            "xorg-dev is already the newest version (1:7.7+19ubuntu7.1).\n",
            "ffmpeg is already the newest version (7:3.4.6-0ubuntu0.18.04.1).\n",
            "libsdl2-dev is already the newest version (2.0.8+dfsg1-1ubuntu1.18.04.3).\n",
            "xvfb is already the newest version (2:1.19.6-1ubuntu4.2).\n",
            "The following package was automatically installed and is no longer required:\n",
            "  libnvidia-common-410\n",
            "Use 'apt autoremove' to remove it.\n",
            "0 upgraded, 0 newly installed, 0 to remove and 30 not upgraded.\n",
            "Requirement already satisfied: pyglet in /usr/local/lib/python3.6/dist-packages (1.3.2)\n",
            "Requirement already satisfied: future in /usr/local/lib/python3.6/dist-packages (from pyglet) (0.16.0)\n"
          ],
          "name": "stdout"
        }
      ]
    },
    {
      "cell_type": "markdown",
      "metadata": {
        "id": "g07Oz8FWqjYR",
        "colab_type": "text"
      },
      "source": [
        "These dependencies are for Pacman, but we probably need these for any atari game, so I'm installing them nonetheless."
      ]
    },
    {
      "cell_type": "code",
      "metadata": {
        "id": "8xAaeDsUqiOn",
        "colab_type": "code",
        "outputId": "2997aadb-7538-4361-a783-a402e57e2b6c",
        "colab": {
          "base_uri": "https://localhost:8080/",
          "height": 442
        }
      },
      "source": [
        "!apt-get update > /dev/null 2>&1\n",
        "!apt-get install cmake > /dev/null 2>&1\n",
        "!pip install --upgrade setuptools 2>&1\n",
        "!pip install ez_setup > /dev/null 2>&1\n",
        "!pip install gym[atari] > /dev/null 2>&1\n",
        "!pip install h5py pyyaml\n",
        "!pip install tf_nightly"
      ],
      "execution_count": 0,
      "outputs": [
        {
          "output_type": "stream",
          "text": [
            "Requirement already up-to-date: setuptools in /usr/local/lib/python3.6/dist-packages (41.0.1)\n",
            "Requirement already satisfied: h5py in /usr/local/lib/python3.6/dist-packages (2.8.0)\n",
            "Requirement already satisfied: pyyaml in /usr/local/lib/python3.6/dist-packages (3.13)\n",
            "Requirement already satisfied: numpy>=1.7 in /usr/local/lib/python3.6/dist-packages (from h5py) (1.16.4)\n",
            "Requirement already satisfied: six in /usr/local/lib/python3.6/dist-packages (from h5py) (1.12.0)\n",
            "Requirement already satisfied: tf_nightly in /usr/local/lib/python3.6/dist-packages (1.14.1.dev20190605)\n",
            "Requirement already satisfied: grpcio>=1.8.6 in /usr/local/lib/python3.6/dist-packages (from tf_nightly) (1.15.0)\n",
            "Requirement already satisfied: astor>=0.6.0 in /usr/local/lib/python3.6/dist-packages (from tf_nightly) (0.8.0)\n",
            "Requirement already satisfied: keras-applications>=1.0.6 in /usr/local/lib/python3.6/dist-packages (from tf_nightly) (1.0.7)\n",
            "Requirement already satisfied: keras-preprocessing>=1.0.5 in /usr/local/lib/python3.6/dist-packages (from tf_nightly) (1.0.9)\n",
            "Requirement already satisfied: google-pasta>=0.1.6 in /usr/local/lib/python3.6/dist-packages (from tf_nightly) (0.1.7)\n",
            "Requirement already satisfied: absl-py>=0.7.0 in /usr/local/lib/python3.6/dist-packages (from tf_nightly) (0.7.1)\n",
            "Requirement already satisfied: tb-nightly<1.15.0a0,>=1.14.0a0 in /usr/local/lib/python3.6/dist-packages (from tf_nightly) (1.14.0a20190605)\n",
            "Requirement already satisfied: tf-estimator-nightly in /usr/local/lib/python3.6/dist-packages (from tf_nightly) (1.14.0.dev2019060501)\n",
            "Requirement already satisfied: wheel>=0.26 in /usr/local/lib/python3.6/dist-packages (from tf_nightly) (0.33.4)\n",
            "Requirement already satisfied: wrapt>=1.11.1 in /usr/local/lib/python3.6/dist-packages (from tf_nightly) (1.11.1)\n",
            "Requirement already satisfied: termcolor>=1.1.0 in /usr/local/lib/python3.6/dist-packages (from tf_nightly) (1.1.0)\n",
            "Requirement already satisfied: protobuf>=3.6.1 in /usr/local/lib/python3.6/dist-packages (from tf_nightly) (3.7.1)\n",
            "Requirement already satisfied: numpy<2.0,>=1.14.5 in /usr/local/lib/python3.6/dist-packages (from tf_nightly) (1.16.4)\n",
            "Requirement already satisfied: six>=1.10.0 in /usr/local/lib/python3.6/dist-packages (from tf_nightly) (1.12.0)\n",
            "Requirement already satisfied: gast>=0.2.0 in /usr/local/lib/python3.6/dist-packages (from tf_nightly) (0.2.2)\n",
            "Requirement already satisfied: h5py in /usr/local/lib/python3.6/dist-packages (from keras-applications>=1.0.6->tf_nightly) (2.8.0)\n",
            "Requirement already satisfied: markdown>=2.6.8 in /usr/local/lib/python3.6/dist-packages (from tb-nightly<1.15.0a0,>=1.14.0a0->tf_nightly) (3.1.1)\n",
            "Requirement already satisfied: werkzeug>=0.11.15 in /usr/local/lib/python3.6/dist-packages (from tb-nightly<1.15.0a0,>=1.14.0a0->tf_nightly) (0.15.4)\n",
            "Requirement already satisfied: setuptools>=41.0.0 in /usr/local/lib/python3.6/dist-packages (from tb-nightly<1.15.0a0,>=1.14.0a0->tf_nightly) (41.0.1)\n"
          ],
          "name": "stdout"
        }
      ]
    },
    {
      "cell_type": "markdown",
      "metadata": {
        "id": "jAfSO-P6rh7_",
        "colab_type": "text"
      },
      "source": [
        "Imports"
      ]
    },
    {
      "cell_type": "code",
      "metadata": {
        "id": "wnwWnKMVrmWM",
        "colab_type": "code",
        "colab": {}
      },
      "source": [
        "import gym\n",
        "from gym import logger as gymlogger\n",
        "from gym.wrappers import Monitor\n",
        "gymlogger.set_level(40) #error only\n",
        "import tensorflow as tf\n",
        "import numpy as np\n",
        "import random\n",
        "import matplotlib\n",
        "import matplotlib.pyplot as plt\n",
        "%matplotlib inline\n",
        "import math\n",
        "import glob\n",
        "import io\n",
        "import base64\n",
        "from IPython.display import HTML\n",
        "import keras\n",
        "import matplotlib.pyplot as plt\n",
        "import seaborn as sns\n",
        "import pandas as pd\n",
        "\n",
        "#saving video\n",
        "from google.colab import files\n",
        "\n",
        "# CRITICAL FOR TENSOR ORDERING\n",
        "from keras import backend as K\n",
        "K.set_image_dim_ordering('th')\n",
        "\n",
        "from IPython import display as ipythondisplay\n",
        "from pyvirtualdisplay import Display\n",
        "\n",
        "# # This code creates a virtual display to draw game images on. \n",
        "# # If you are running locally, just ignore it\n",
        "import os\n",
        "if type(os.environ.get(\"DISPLAY\")) is not str or len(os.environ.get(\"DISPLAY\"))==0:\n",
        "    !bash ../xvfb start\n",
        "    %env DISPLAY=:1"
      ],
      "execution_count": 0,
      "outputs": []
    },
    {
      "cell_type": "code",
      "metadata": {
        "id": "ZSdocm8GsN-z",
        "colab_type": "code",
        "outputId": "f550acdf-c096-4765-e22b-1494a8889758",
        "colab": {
          "base_uri": "https://localhost:8080/",
          "height": 71
        }
      },
      "source": [
        "display = Display(visible=0, size=(1400, 900))\n",
        "display.start()"
      ],
      "execution_count": 0,
      "outputs": [
        {
          "output_type": "stream",
          "text": [
            "xdpyinfo was not found, X start can not be checked! Please install xdpyinfo!\n"
          ],
          "name": "stderr"
        },
        {
          "output_type": "execute_result",
          "data": {
            "text/plain": [
              "<Display cmd_param=['Xvfb', '-br', '-nolisten', 'tcp', '-screen', '0', '1400x900x24', ':1001'] cmd=['Xvfb', '-br', '-nolisten', 'tcp', '-screen', '0', '1400x900x24', ':1001'] oserror=None return_code=None stdout=\"None\" stderr=\"None\" timeout_happened=False>"
            ]
          },
          "metadata": {
            "tags": []
          },
          "execution_count": 169
        }
      ]
    },
    {
      "cell_type": "code",
      "metadata": {
        "id": "q1IGFnWJsgFE",
        "colab_type": "code",
        "colab": {}
      },
      "source": [
        "\"\"\"\n",
        "Utility functions to enable video recording of gym environment and displaying it\n",
        "To enable video, just do \"env = wrap_env(env)\"\"\n",
        "\"\"\"\n",
        "\n",
        "def show_video(i):\n",
        "  mp4list = glob.glob('video/*.mp4')\n",
        "  if len(mp4list) > 0:\n",
        "    mp4 = mp4list[i]\n",
        "    video = io.open(mp4, 'r+b').read()\n",
        "    encoded = base64.b64encode(video)\n",
        "    ipythondisplay.display(HTML(data='''<video alt=\"test\" autoplay \n",
        "                loop controls style=\"height: 400px;\">\n",
        "                <source src=\"data:video/mp4;base64,{0}\" type=\"video/mp4\" />\n",
        "             </video>'''.format(encoded.decode('ascii'))))\n",
        "  else: \n",
        "    print(\"Could not find video\")\n",
        "    \n",
        "\n",
        "def wrap_env(env):\n",
        "  env = Monitor(env, './video', force=True)\n",
        "  return env"
      ],
      "execution_count": 0,
      "outputs": []
    },
    {
      "cell_type": "markdown",
      "metadata": {
        "id": "_laXfOvZpt6X",
        "colab_type": "text"
      },
      "source": [
        "DQN Functions"
      ]
    },
    {
      "cell_type": "code",
      "metadata": {
        "id": "mESjpcyPF1CG",
        "colab_type": "code",
        "colab": {}
      },
      "source": [
        "#Pre-processing\n",
        "def to_grayscale(img):\n",
        "    return np.mean(img, axis=2).astype(np.uint8)\n",
        "\n",
        "def downsample(img):\n",
        "    return img[::2, ::2]\n",
        "\n",
        "def preprocess(img):\n",
        "    return to_grayscale(downsample(img))\n",
        "\n",
        "def transform_reward(reward):\n",
        "    return np.sign(reward)\n",
        "\n",
        "def fit_batch(model, start_states, actions, rewards, next_states, is_terminal, gamma=.99):\n",
        "    \"\"\"Do one deep Q learning iteration.\n",
        "    \n",
        "    Params:\n",
        "    - model: The DQN\n",
        "    - gamma: Discount factor (should be 0.99)\n",
        "    - start_states: numpy array of starting states\n",
        "    - actions: numpy array of one-hot encoded actions corresponding to the start states\n",
        "    - rewards: numpy array of rewards corresponding to the start states and actions\n",
        "    - next_states: numpy array of the resulting states corresponding to the start states and actions\n",
        "    - is_terminal: numpy boolean array of whether the resulting state is terminal\n",
        "    \n",
        "    \"\"\"\n",
        "    # First, predict the Q values of the next states. Note how we are passing ones as the mask.\n",
        "    next_Q_values = model.predict([next_states, np.ones(actions.shape)])\n",
        "    # The Q values of the terminal states is 0 by definition, so override them\n",
        "    next_Q_values[is_terminal] = 0\n",
        "    # The Q values of each start state is the reward + gamma * the max next state Q value\n",
        "    Q_values = rewards + gamma * np.max(next_Q_values, axis=1)\n",
        "    # Fit the keras model. Note how we are passing the actions as the mask and multiplying\n",
        "    # the targets by the actions.\n",
        "    model.fit(\n",
        "        [start_states, actions], actions * Q_values[:, None],\n",
        "        epochs=1, batch_size=len(start_states), verbose=0)\n",
        "    \n",
        "    return Q_values\n",
        "\n",
        "def atari_model(n_actions):\n",
        "    # We assume a theano backend here, so the \"channels\" are first.\n",
        "    ATARI_SHAPE = (4, 105, 80)\n",
        "\n",
        "    # With the functional API we need to define the inputs.\n",
        "    frames_input = keras.layers.Input(ATARI_SHAPE, name='frames')\n",
        "    actions_input = keras.layers.Input((n_actions,), name='mask') \n",
        "\n",
        "    # Assuming that the input frames are still encoded from 0 to 255. Transforming to [0, 1].\n",
        "    normalized = keras.layers.Lambda(lambda x: x / 255.0)(frames_input)\n",
        "    \n",
        "    # \"The first hidden layer convolves 16 8×8 filters with stride 4 with the input image and applies a rectifier nonlinearity.\"\n",
        "    conv_1 = keras.layers.convolutional.Convolution2D(\n",
        "        16, (8, 8), activation='relu', strides=(4, 4),\n",
        "    )(normalized)\n",
        "    # \"The second hidden layer convolves 32 4×4 filters with stride 2, again followed by a rectifier nonlinearity.\"\n",
        "    conv_2 = keras.layers.convolutional.Convolution2D(\n",
        "        32, (4, 4), strides=(2, 2), activation='relu'\n",
        "    )(conv_1)\n",
        "    # Flattening the second convolutional layer.\n",
        "    conv_flattened = keras.layers.core.Flatten()(conv_2)\n",
        "    # \"The final hidden layer is fully-connected and consists of 256 rectifier units.\"\n",
        "    hidden = keras.layers.Dense(256, activation='relu')(conv_flattened)\n",
        "    # \"The output layer is a fully-connected linear layer with a single output for each valid action.\"\n",
        "    output = keras.layers.Dense(n_actions)(hidden)\n",
        "    # Finally, we multiply the output by the mask!\n",
        "    filtered_output = keras.layers.multiply([output, actions_input])\n",
        "\n",
        "\n",
        "    model = keras.models.Model(inputs=[frames_input, actions_input], outputs=filtered_output)\n",
        "    optimizer = keras.optimizers.RMSprop(lr=0.00025, rho=0.95, epsilon=0.01)\n",
        "    model.compile(optimizer, loss='mse')\n",
        "    \n",
        "    return model\n",
        "  \n",
        "\n",
        "#Experience Replay: This is going to be memory-intensive...\n",
        "#Implement finite memory (ring buffer)\n",
        "class RingBuf:\n",
        "    def __init__(self, size):\n",
        "        # Pro-tip: when implementing a ring buffer, always allocate one extra element,\n",
        "        # this way, self.start == self.end always means the buffer is EMPTY, whereas\n",
        "        # if you allocate exactly the right number of elements, it could also mean\n",
        "        # the buffer is full. This greatly simplifies the rest of the code.\n",
        "        self.data = [None] * (size + 1)\n",
        "        self.start = 0\n",
        "        self.end = 0\n",
        "        self.full = False\n",
        "        self.episode = 1\n",
        "        self.rewards = {}\n",
        "        self.Qvals = {}\n",
        "        \n",
        "    def append(self, element):\n",
        "        self.data[self.end] = element\n",
        "        self.end = (self.end + 1) % len(self.data)\n",
        "        # end == start and yet we just added one element. This means the buffer has one\n",
        "        # too many element. Remove the first element by incrementing start.\n",
        "        if self.end == self.start:\n",
        "            self.start = (self.start + 1) % len(self.data)\n",
        "            self.full = True\n",
        "    \n",
        "    def sample_batch(self, nsamples):\n",
        "      \n",
        "      idx = np.random.randint(4, len(memory), nsamples)\n",
        "      start_states = np.zeros((nsamples, 4, 105, 80))\n",
        "      actions = np.zeros((nsamples, 4))\n",
        "      next_states = np.zeros((nsamples, 4, 105, 80))\n",
        "      rewards = np.zeros((nsamples))\n",
        "      is_terminal = np.zeros((nsamples))\n",
        "      \n",
        "      for i, v in enumerate(idx):\n",
        "        history = range(1,4)\n",
        "        for h in history:\n",
        "          if not self.data[v-h]:\n",
        "            print(\"index: {}\\t history value: {}\".format(v, h))\n",
        "          ss, _, ns, _, _ = self.data[v-h]\n",
        "          start_states[i, h] = ss\n",
        "          next_states[i, h] = ns\n",
        "        ss, a, ns, r, it = self.data[v]\n",
        "        start_states[i,0] = ss\n",
        "        actions[i] = a\n",
        "        next_states[i,0] = ns\n",
        "        rewards[i] = r\n",
        "        is_terminal[i] = it\n",
        "      \n",
        "      \n",
        "      return (start_states, actions, next_states, rewards, is_terminal)\n",
        "    \n",
        "        \n",
        "    def __getitem__(self, idx):\n",
        "        return self.data[(self.start + idx) % len(self.data)]\n",
        "    \n",
        "    def __len__(self):\n",
        "        if self.end < self.start:\n",
        "            return self.end + len(self.data) - self.start\n",
        "        else:\n",
        "            return self.end - self.start\n",
        "        \n",
        "    def __iter__(self):\n",
        "        for i in range(len(self)):\n",
        "            yield self[i]\n",
        "    \n",
        "    \n",
        "def get_epsilon_for_iteration(iteration):\n",
        "    if iteration <= 600000:\n",
        "        epsilon = 1 - (.9*(-50000+iteration)/600000)\n",
        "    else:\n",
        "        epsilon = .1\n",
        "    return epsilon\n",
        " \n",
        "\n",
        "        \n",
        "    \n",
        "def q_iteration(env, model, state, iteration, memory):\n",
        "  \n",
        "    if iteration > 50000:\n",
        "      # Choose epsilon based on the iteration\n",
        "      epsilon = get_epsilon_for_iteration(iteration)\n",
        "\n",
        "      # Choose the action \n",
        "      if random.random() < epsilon:\n",
        "          action = env.action_space.sample()\n",
        "      else:\n",
        "          # choose best action based on model's policy\n",
        "          history = np.zeros((1,4,105,80))\n",
        "          history[0,0] = frame\n",
        "          for i in range(1,4):\n",
        "            history[0,i] = memory[memory.end-i][0]\n",
        "          action = np.argmax(model.predict([history, np.ones((1,env.action_space.n))]))\n",
        "    else:\n",
        "      # preload memory with random policy for 50000 iterations\n",
        "      action = env.action_space.sample()\n",
        "        \n",
        "    # Play one game iteration (note: according to the next paper, you should actually play 4 times here)\n",
        "    new_frame, reward, is_done, _ = env.step(action)\n",
        "    reward = transform_reward(reward)\n",
        "    \n",
        "    # LOG REWARD\n",
        "    if memory.episode not in memory.rewards:\n",
        "        memory.rewards[memory.episode] = []\n",
        "    memory.rewards[memory.episode].append(reward)\n",
        "    \n",
        "    if is_done:\n",
        "        new_frame = env.reset()\n",
        "        memory.episode += 1\n",
        "    new_frame = preprocess(new_frame)\n",
        "    \n",
        "    # one hot encode action\n",
        "    targets = np.array(action).reshape(-1)\n",
        "    action = np.eye(4)[targets]\n",
        "    \n",
        "    memory.append((state, action, new_frame, reward, is_done))\n",
        "\n",
        "    # Sample and fit\n",
        "    if iteration > 50000:\n",
        "      batch = memory.sample_batch(32)\n",
        "      start_states, actions, next_states, rewards, is_terminal = batch\n",
        "      is_terminal = is_terminal.astype('bool')\n",
        "\n",
        "      q_values = fit_batch(model, start_states, actions, rewards, next_states, is_terminal)\n",
        "      memory.Qvals[iteration] = q_values\n",
        "    \n",
        "    return new_frame\n",
        "    "
      ],
      "execution_count": 0,
      "outputs": []
    },
    {
      "cell_type": "code",
      "metadata": {
        "id": "TRoLCNIDEh7B",
        "colab_type": "code",
        "outputId": "1502d8c9-2d3f-45e7-ea96-c686262af246",
        "colab": {
          "base_uri": "https://localhost:8080/",
          "height": 1159
        }
      },
      "source": [
        "## RUN MODEL\n",
        "\n",
        "# Create a breakout environment\n",
        "# Wipe existing video/ directory \n",
        "env = wrap_env(gym.make('BreakoutDeterministic-v4'))\n",
        "\n",
        "# Reset it, returns the starting frame\n",
        "frame = env.reset()\n",
        "frame = preprocess(frame)\n",
        "\n",
        "is_done = False\n",
        "iteration = 0\n",
        "memory = RingBuf(size = 1000000)\n",
        "model = atari_model(env.action_space.n)\n",
        "\n",
        "max_iter = 600000\n",
        "\n",
        "while not is_done:\n",
        "\n",
        "  frame = q_iteration(env, model, frame, iteration, memory)\n",
        "  \n",
        "  # Render\n",
        "#   env.render()\n",
        "  iteration += 1\n",
        "  if iteration % 10000 == 0:\n",
        "    print(\"Iteration: {}\".format(iteration))\n",
        "  \n",
        "  is_done = (iteration >= max_iter)\n",
        "  \n",
        "  # EPISODES?\n",
        "\n",
        "# for file in glob.glob(\"openaigym.video.*.mp4\"):\n",
        "#   files.download(file)"
      ],
      "execution_count": 0,
      "outputs": [
        {
          "output_type": "stream",
          "text": [
            "WARNING:tensorflow:From /usr/local/lib/python3.6/dist-packages/tensorflow/python/framework/op_def_library.py:263: colocate_with (from tensorflow.python.framework.ops) is deprecated and will be removed in a future version.\n",
            "Instructions for updating:\n",
            "Colocations handled automatically by placer.\n",
            "Iteration: 10000\n",
            "Iteration: 20000\n",
            "Iteration: 30000\n",
            "Iteration: 40000\n",
            "Iteration: 50000\n",
            "WARNING:tensorflow:From /usr/local/lib/python3.6/dist-packages/tensorflow/python/ops/math_ops.py:3066: to_int32 (from tensorflow.python.ops.math_ops) is deprecated and will be removed in a future version.\n",
            "Instructions for updating:\n",
            "Use tf.cast instead.\n",
            "Iteration: 60000\n",
            "Iteration: 70000\n",
            "Iteration: 80000\n",
            "Iteration: 90000\n",
            "Iteration: 100000\n",
            "Iteration: 110000\n",
            "Iteration: 120000\n",
            "Iteration: 130000\n",
            "Iteration: 140000\n",
            "Iteration: 150000\n",
            "Iteration: 160000\n",
            "Iteration: 170000\n",
            "Iteration: 180000\n",
            "Iteration: 190000\n",
            "Iteration: 200000\n",
            "Iteration: 210000\n",
            "Iteration: 220000\n",
            "Iteration: 230000\n",
            "Iteration: 240000\n",
            "Iteration: 250000\n",
            "Iteration: 260000\n",
            "Iteration: 270000\n",
            "Iteration: 280000\n",
            "Iteration: 290000\n",
            "Iteration: 300000\n",
            "Iteration: 310000\n",
            "Iteration: 320000\n",
            "Iteration: 330000\n",
            "Iteration: 340000\n",
            "Iteration: 350000\n",
            "Iteration: 360000\n",
            "Iteration: 370000\n",
            "Iteration: 380000\n",
            "Iteration: 390000\n",
            "Iteration: 400000\n",
            "Iteration: 410000\n",
            "Iteration: 420000\n",
            "Iteration: 430000\n",
            "Iteration: 440000\n",
            "Iteration: 450000\n",
            "Iteration: 460000\n",
            "Iteration: 470000\n",
            "Iteration: 480000\n",
            "Iteration: 490000\n",
            "Iteration: 500000\n",
            "Iteration: 510000\n",
            "Iteration: 520000\n",
            "Iteration: 530000\n",
            "Iteration: 540000\n",
            "Iteration: 550000\n",
            "Iteration: 560000\n",
            "Iteration: 570000\n",
            "Iteration: 580000\n",
            "Iteration: 590000\n",
            "Iteration: 600000\n"
          ],
          "name": "stdout"
        }
      ]
    },
    {
      "cell_type": "code",
      "metadata": {
        "id": "FmvmK3QwxNry",
        "colab_type": "code",
        "outputId": "a96428f8-e6e1-4aec-de02-7e0626e32f05",
        "colab": {
          "base_uri": "https://localhost:8080/",
          "height": 34
        }
      },
      "source": [
        "mp4list = glob.glob('video/*.mp4')\n",
        "print(mp4list)"
      ],
      "execution_count": 0,
      "outputs": [
        {
          "output_type": "stream",
          "text": [
            "['video/openaigym.video.1.140.video000000.mp4']\n"
          ],
          "name": "stdout"
        }
      ]
    },
    {
      "cell_type": "code",
      "metadata": {
        "id": "dRl9UEHCtT5b",
        "colab_type": "code",
        "colab": {}
      },
      "source": [
        "avg_q_vals = pd.DataFrame.from_dict(memory.Qvals, orient = 'index')\n",
        "avg_q_vals = avg_q_vals.mean(axis=1)\n",
        "avg_q_vals = pd.DataFrame(avg_q_vals)\n",
        "avg_q_vals.reset_index(drop=False, inplace = True)\n",
        "avg_q_vals.rename(columns = {0:\"avgQ\"}, inplace=True)"
      ],
      "execution_count": 0,
      "outputs": []
    },
    {
      "cell_type": "code",
      "metadata": {
        "id": "j70DyvHO64t6",
        "colab_type": "code",
        "colab": {}
      },
      "source": [
        "avg_q_vals.to_csv(\"avg_q_vals_breakout60k.csv\")\n",
        "files.download(\"avg_q_vals_breakout60k.csv\")"
      ],
      "execution_count": 0,
      "outputs": []
    },
    {
      "cell_type": "code",
      "metadata": {
        "id": "UWjyPi-luYNl",
        "colab_type": "code",
        "outputId": "bd7a9453-2585-444b-b8f4-d6f5fd6ee0bc",
        "colab": {
          "base_uri": "https://localhost:8080/",
          "height": 283
        }
      },
      "source": [
        "sns.lineplot(x='index',y='avgQ', data=avg_q_vals);\n",
        "plt.show()"
      ],
      "execution_count": 0,
      "outputs": [
        {
          "output_type": "display_data",
          "data": {
            "image/png": "[encoded data removed]",
            "text/plain": [
              "<Figure size 432x288 with 1 Axes>"
            ]
          },
          "metadata": {
            "tags": []
          }
        }
      ]
    },
    {
      "cell_type": "code",
      "metadata": {
        "id": "gptkyY5QwYlg",
        "colab_type": "code",
        "outputId": "b69ebd23-f99e-4b88-eafb-aa1f93c280d0",
        "colab": {
          "base_uri": "https://localhost:8080/",
          "height": 312
        }
      },
      "source": [
        "sns.lineplot(x='index', y='avgQ', data=avg_q_vals.groupby(np.arange(len(avg_q_vals))//20000).mean())\n",
        "plt.xlabel('Iterations');\n",
        "plt.title(\"Average Q Value (averaged over 20k iterations)\");\n",
        "plt.show()\n",
        "plt.savefig(\"avgQ.png\")\n",
        "# files.download(\"avgQ.png\")"
      ],
      "execution_count": 0,
      "outputs": [
        {
          "output_type": "display_data",
          "data": {
            "image/png": "[encoded data removed]",
            "text/plain": [
              "<Figure size 432x288 with 1 Axes>"
            ]
          },
          "metadata": {
            "tags": []
          }
        },
        {
          "output_type": "display_data",
          "data": {
            "text/plain": [
              "<Figure size 432x288 with 0 Axes>"
            ]
          },
          "metadata": {
            "tags": []
          }
        }
      ]
    },
    {
      "cell_type": "code",
      "metadata": {
        "id": "7bx8YXrHzbmM",
        "colab_type": "code",
        "colab": {}
      },
      "source": [
        "avg_rewards = {}\n",
        "for k, v in memory.rewards.items():\n",
        "  avg_rewards[k] = np.mean(v)\n",
        "avg_rewards = pd.DataFrame.from_dict(avg_rewards, orient='index')\n",
        "avg_rewards.reset_index(drop=False, inplace = True)\n",
        "avg_rewards.rename(columns = {0:\"avgReward\"}, inplace=True)"
      ],
      "execution_count": 0,
      "outputs": []
    },
    {
      "cell_type": "code",
      "metadata": {
        "id": "1ljqxBf_z0oT",
        "colab_type": "code",
        "outputId": "13cb3f68-b890-4f69-8911-72de1dc002f9",
        "colab": {
          "base_uri": "https://localhost:8080/",
          "height": 300
        }
      },
      "source": [
        "sns.lineplot(x='index',y='avgReward', data=avg_rewards);\n",
        "plt.plot()"
      ],
      "execution_count": 0,
      "outputs": [
        {
          "output_type": "execute_result",
          "data": {
            "text/plain": [
              "[]"
            ]
          },
          "metadata": {
            "tags": []
          },
          "execution_count": 63
        },
        {
          "output_type": "display_data",
          "data": {
            "image/png": "[encoded data removed]",
            "text/plain": [
              "<Figure size 432x288 with 1 Axes>"
            ]
          },
          "metadata": {
            "tags": []
          }
        }
      ]
    },
    {
      "cell_type": "code",
      "metadata": {
        "id": "MGTIg18376sm",
        "colab_type": "code",
        "colab": {}
      },
      "source": [
        "avg_rewards.to_csv(\"avg_rewards_breakout60k.csv\")\n",
        "files.download(\"avg_rewards_breakout60k.csv\")"
      ],
      "execution_count": 0,
      "outputs": []
    },
    {
      "cell_type": "code",
      "metadata": {
        "id": "MA5TwqDd0B0t",
        "colab_type": "code",
        "outputId": "b2a71d2b-14bc-44ec-87ec-2856b04c4245",
        "colab": {
          "base_uri": "https://localhost:8080/",
          "height": 312
        }
      },
      "source": [
        "sns.lineplot(x='index',y='avgReward',data=avg_rewards.groupby(np.arange(len(avg_rewards))//50).mean())\n",
        "plt.xlabel(\"Game\")\n",
        "plt.title(\"Average Reward per Game (averaged over 50 games)\")\n",
        "plt.show()\n",
        "plt.savefig(\"avgReward.png\")\n",
        "# files.download(\"avgReward.png\")"
      ],
      "execution_count": 0,
      "outputs": [
        {
          "output_type": "display_data",
          "data": {
            "image/png": "[encoded data removed]",
            "text/plain": [
              "<Figure size 432x288 with 1 Axes>"
            ]
          },
          "metadata": {
            "tags": []
          }
        },
        {
          "output_type": "display_data",
          "data": {
            "text/plain": [
              "<Figure size 432x288 with 0 Axes>"
            ]
          },
          "metadata": {
            "tags": []
          }
        }
      ]
    },
    {
      "cell_type": "code",
      "metadata": {
        "id": "Cw_xoip08D9E",
        "colab_type": "code",
        "colab": {}
      },
      "source": [
        "total_rewards.to_csv(\"total_rewards_breakout60k.csv\")\n",
        "files.download(\"total_rewards_breakout60k.csv\")"
      ],
      "execution_count": 0,
      "outputs": []
    },
    {
      "cell_type": "code",
      "metadata": {
        "id": "pTUcns0GQ4a0",
        "colab_type": "code",
        "outputId": "e91b4b9e-8de4-4ba5-96c2-165af3fdf842",
        "colab": {
          "base_uri": "https://localhost:8080/",
          "height": 312
        }
      },
      "source": [
        "sns.lineplot(x='index',y='total_reward',data=total_rewards.groupby(np.arange(len(total_rewards))//50).mean())\n",
        "plt.xlabel(\"Game\")\n",
        "plt.title(\"Total Reward per Game (averaged over 50 games)\")\n",
        "plt.show()\n",
        "plt.savefig(\"totalReward.png\");\n",
        "files.download(\"totalReward.png\")"
      ],
      "execution_count": 0,
      "outputs": [
        {
          "output_type": "display_data",
          "data": {
            "image/png": "[encoded data removed]",
            "text/plain": [
              "<Figure size 432x288 with 1 Axes>"
            ]
          },
          "metadata": {
            "tags": []
          }
        },
        {
          "output_type": "display_data",
          "data": {
            "text/plain": [
              "<Figure size 432x288 with 0 Axes>"
            ]
          },
          "metadata": {
            "tags": []
          }
        }
      ]
    },
    {
      "cell_type": "code",
      "metadata": {
        "id": "MaJc4VtbgAyx",
        "colab_type": "code",
        "colab": {}
      },
      "source": [
        "# Save entire model to a HDF5 file\n",
        "model.save('breakout_60k.h5')"
      ],
      "execution_count": 0,
      "outputs": []
    },
    {
      "cell_type": "code",
      "metadata": {
        "id": "8sG8w1basXTW",
        "colab_type": "code",
        "colab": {}
      },
      "source": [
        "files.download(\"breakout_60k.h5\")"
      ],
      "execution_count": 0,
      "outputs": []
    },
    {
      "cell_type": "code",
      "metadata": {
        "id": "z_RIiV31gKCC",
        "colab_type": "code",
        "colab": {}
      },
      "source": [
        "# load trained model\n",
        "new_model = keras.models.load_model('breakout_60k.h5')\n"
      ],
      "execution_count": 0,
      "outputs": []
    },
    {
      "cell_type": "code",
      "metadata": {
        "id": "ZPQpUjpqFWfV",
        "colab_type": "code",
        "outputId": "f16f0987-a329-4d75-dfd9-3af90f3736e0",
        "colab": {
          "base_uri": "https://localhost:8080/",
          "height": 421
        }
      },
      "source": [
        "show_video(3)"
      ],
      "execution_count": 0,
      "outputs": [
        {
          "output_type": "display_data",
          "data": {
            "text/html": [
              "<video alt=\"test\" autoplay \n",
              "                loop controls style=\"height: 400px;\">\n",
              "                <source src=\"data:video/mp4;base64,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\" type=\"video/mp4\" />\n",
              "             </video>"
            ],
            "text/plain": [
              "<IPython.core.display.HTML object>"
            ]
          },
          "metadata": {
            "tags": []
          }
        }
      ]
    },
    {
      "cell_type": "code",
      "metadata": {
        "id": "tt__c6mptRQu",
        "colab_type": "code",
        "colab": {}
      },
      "source": [
        "env = wrap_env(gym.make('BreakoutDeterministic-v4'))\n",
        "\n",
        "observation = env.reset()\n",
        "iteration = 0\n",
        "while iteration < 100000:\n",
        "  \n",
        "#     env.render()\n",
        "    if iteration % 10000 == 0:\n",
        "      print(\"Iteration {}\".format(iteration))\n",
        "    \n",
        "    #your agent goes here\n",
        "    action = env.action_space.sample() \n",
        "         \n",
        "    observation, reward, done, info = env.step(action) \n",
        "   \n",
        "        \n",
        "    if done: \n",
        "      _ = env.reset()\n",
        "    iteration += 1\n"
      ],
      "execution_count": 0,
      "outputs": []
    },
    {
      "cell_type": "code",
      "metadata": {
        "id": "ehaq3TUhrq8L",
        "colab_type": "code",
        "outputId": "4497cebf-2010-400b-cfbe-70e3303306eb",
        "colab": {
          "base_uri": "https://localhost:8080/",
          "height": 34
        }
      },
      "source": [
        "mp4list = glob.glob('video/*.mp4')\n",
        "len(mp4list)"
      ],
      "execution_count": 0,
      "outputs": [
        {
          "output_type": "execute_result",
          "data": {
            "text/plain": [
              "12"
            ]
          },
          "metadata": {
            "tags": []
          },
          "execution_count": 96
        }
      ]
    },
    {
      "cell_type": "code",
      "metadata": {
        "id": "rPcdOk1K-KTK",
        "colab_type": "code",
        "colab": {}
      },
      "source": [
        "# TRANSFER LEARNING\n",
        "\n",
        "observation = env.reset()\n",
        "\n",
        "env = wrap_env(gym.make('PongDeterministic-v4'))\n",
        "\n",
        "history = np.zeros((1,4,105,80))\n",
        "iteration = 0\n",
        "rewards = []\n",
        "done=False\n",
        "\n",
        "while not done:\n",
        "    \n",
        "    \n",
        "    for i in range(3,0, -1):\n",
        "      history[0,i] = history[0,i-1]\n",
        "    \n",
        "    history[0,0] = observation\n",
        "\n",
        "    if iteration > 3:\n",
        "      \n",
        "        action = np.argmax(model.predict([history, np.ones((1,4))]))\n",
        "    \n",
        "    else:\n",
        "        action = env.action_space.sample()\n",
        "    \n",
        "    observation, reward, done, _ = env.step(action)\n",
        "    observation = preprocess(observation)\n",
        "\n",
        "    reward = transform_reward(reward)\n",
        "    rewards.append(reward)\n",
        "        \n",
        "    \n",
        "    iteration += 1\n"
      ],
      "execution_count": 0,
      "outputs": []
    },
    {
      "cell_type": "code",
      "metadata": {
        "id": "QPJVXgqEDIJU",
        "colab_type": "code",
        "outputId": "dffbaa4a-b425-418e-c744-aa1893475901",
        "colab": {
          "base_uri": "https://localhost:8080/",
          "height": 34
        }
      },
      "source": [
        "mp4list_pong = glob.glob('video/*.mp4')\n",
        "mp4list_pong"
      ],
      "execution_count": 0,
      "outputs": [
        {
          "output_type": "execute_result",
          "data": {
            "text/plain": [
              "['video/openaigym.video.10.140.video000000.mp4']"
            ]
          },
          "metadata": {
            "tags": []
          },
          "execution_count": 176
        }
      ]
    },
    {
      "cell_type": "code",
      "metadata": {
        "id": "5m3sNc-nDb4y",
        "colab_type": "code",
        "colab": {}
      },
      "source": [
        "# TRANSFER LEARNING\n",
        "\n",
        "env = wrap_env(gym.make('PongNoFrameskip-v4'))\n",
        "rewards = []\n",
        "done=False\n",
        "_ = env.reset()\n",
        "\n",
        "\n",
        "while not done:\n",
        "    action = env.action_space.sample()\n",
        "    \n",
        "    observation, reward, done, _ = env.step(action)\n",
        "    reward = transform_reward(reward)\n",
        "    rewards.append(reward)\n"
      ],
      "execution_count": 0,
      "outputs": []
    },
    {
      "cell_type": "code",
      "metadata": {
        "id": "4cUsqRa6aWr-",
        "colab_type": "code",
        "colab": {}
      },
      "source": [
        ""
      ],
      "execution_count": 0,
      "outputs": []
    }
  ]
}